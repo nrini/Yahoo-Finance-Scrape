{
 "cells": [
  {
   "cell_type": "code",
   "execution_count": 37,
   "id": "426c3ed0",
   "metadata": {},
   "outputs": [
    {
     "name": "stdout",
     "output_type": "stream",
     "text": [
      "{'name': 'Tesla, Inc. (TSLA)', 'address': '1 Tesla RoadAustin, TX 78725United States512 516 8177https://www.tesla.com', 'exec1': 'Mr. Elon R. Musk', 'exec2': 'Mr. Andrew D. Baglino', 'exec3': 'Mr. Vaibhav  Taneja', 'exec4': 'Mr. Martin  Viecha', 'exec5': 'Brian  Scelfo', 'description': 'Tesla, Inc. designs, develops, manufactures, leases, and sells electric vehicles, and energy generation and storage systems in the United States, China, and internationally. The company operates in two segments, Automotive, and Energy Generation and Storage. The Automotive segment offers electric vehicles, as well as sells automotive regulatory credits; and non-warranty after-sales vehicle, used vehicles, body shop and parts, supercharging, retail merchandise, and vehicle insurance services. This segment also provides sedans and sport utility vehicles through direct and used vehicle sales, a network of Tesla Superchargers, and in-app upgrades; purchase financing and leasing services; services for electric vehicles through its company-owned service locations and Tesla mobile service technicians; and vehicle limited warranties and extended service plans. The Energy Generation and Storage segment engages in the design, manufacture, installation, sale, and leasing of solar energy generation and energy storage products, and related services to residential, commercial, and industrial customers and utilities through its website, stores, and galleries, as well as through a network of channel partners; and provision of service and repairs to its energy product customers, including under warranty, as well as various financing options to its solar customers. The company was formerly known as Tesla Motors, Inc. and changed its name to Tesla, Inc. in February 2017. Tesla, Inc. was incorporated in 2003 and is headquartered in Austin, Texas.', 'governance': 'Tesla, Inc.’s ISS Governance QualityScore as of February 1, 2024 is 9. The pillar scores are Audit: 8; Board: 9; Shareholder Rights: 9; Compensation: 8.'}\n",
      "{'name': 'Amazon.com, Inc. (AMZN)', 'address': '410 Terry Avenue NorthSeattle, WA 98109-5210United States206 266 1000https://www.aboutamazon.com', 'exec1': 'Mr. Jeffrey P. Bezos', 'exec2': 'Mr. Andrew R. Jassy', 'exec3': 'Mr. Brian T. Olsavsky', 'exec4': 'Mr. David A. Zapolsky', 'exec5': 'Mr. Douglas J. Herrington', 'description': \"Amazon.com, Inc. engages in the retail sale of consumer products, advertising, and subscriptions service through online and physical stores in North America and internationally. The company operates through three segments: North America, International, and Amazon Web Services (AWS). It also manufactures and sells electronic devices, including Kindle, Fire tablets, Fire TVs, Echo, Ring, Blink, and eero; and develops and produces media content. In addition, the company offers programs that enable sellers to sell their products in its stores; and programs that allow authors, independent publishers, musicians, filmmakers, Twitch streamers, skill and app developers, and others to publish and sell content. Further, it provides compute, storage, database, analytics, machine learning, and other services, as well as advertising services through programs, such as sponsored ads, display, and video advertising. Additionally, the company offers Amazon Prime, a membership program. The company's products offered through its stores include merchandise and content purchased for resale and products offered by third-party sellers. It serves consumers, sellers, developers, enterprises, content creators, advertisers, and employees. Amazon.com, Inc. was incorporated in 1994 and is headquartered in Seattle, Washington.\", 'governance': 'Amazon.com, Inc.’s ISS Governance QualityScore as of February 1, 2024 is 10. The pillar scores are Audit: 4; Board: 10; Shareholder Rights: 2; Compensation: 10.'}\n",
      "{'name': 'Apple Inc. (AAPL)', 'address': 'One Apple Park WayCupertino, CA 95014United States408 996 1010https://www.apple.com', 'exec1': 'Mr. Timothy D. Cook', 'exec2': 'Mr. Luca  Maestri', 'exec3': 'Mr. Jeffrey E. Williams', 'exec4': 'Ms. Katherine L. Adams', 'exec5': \"Ms. Deirdre  O'Brien\", 'description': 'Apple Inc. designs, manufactures, and markets smartphones, personal computers, tablets, wearables, and accessories worldwide. The company offers iPhone, a line of smartphones; Mac, a line of personal computers; iPad, a line of multi-purpose tablets; and wearables, home, and accessories comprising AirPods, Apple TV, Apple Watch, Beats products, and HomePod. It also provides AppleCare support and cloud services; and operates various platforms, including the App Store that allow customers to discover and download applications and digital content, such as books, music, video, games, and podcasts. In addition, the company offers various services, such as Apple Arcade, a game subscription service; Apple Fitness+, a personalized fitness service; Apple Music, which offers users a curated listening experience with on-demand radio stations; Apple News+, a subscription news and magazine service; Apple TV+, which offers exclusive original content; Apple Card, a co-branded credit card; and Apple Pay, a cashless payment service, as well as licenses its intellectual property. The company serves consumers, and small and mid-sized businesses; and the education, enterprise, and government markets. It distributes third-party applications for its products through the App Store. The company also sells its products through its retail and online stores, and direct sales force; and third-party cellular network carriers, wholesalers, retailers, and resellers. Apple Inc. was founded in 1976 and is headquartered in Cupertino, California.', 'governance': 'Apple Inc.’s ISS Governance QualityScore as of February 1, 2024 is 1. The pillar scores are Audit: 4; Board: 1; Shareholder Rights: 1; Compensation: 6.'}\n",
      "{'name': 'Meta Platforms, Inc. (META)', 'address': '1 Meta WayMenlo Park, CA 94025United States650 543 4800https://investor.fb.com', 'exec1': 'Mr. Mark Elliot Zuckerberg', 'exec2': 'Ms. Susan J. S. Li', 'exec3': 'Mr. Javier  Olivan', 'exec4': 'Mr. Andrew  Bosworth', 'exec5': 'Mr. Christopher K. Cox', 'description': 'Meta Platforms, Inc. engages in the development of products that enable people to connect and share with friends and family through mobile devices, personal computers, virtual reality headsets, and wearables worldwide. It operates in two segments, Family of Apps and Reality Labs. The Family of Apps segment offers Facebook, which enables people to share, discuss, discover, and connect with interests; Instagram, a community for sharing photos, videos, and private messages, as well as feed, stories, reels, video, live, and shops; Messenger, a messaging application for people to connect with friends, family, communities, and businesses across platforms and devices through text, audio, and video calls; and WhatsApp, a messaging application that is used by people and businesses to communicate and transact privately. The Reality Labs segment provides augmented and virtual reality related products comprising consumer hardware, software, and content that help people feel connected, anytime, and anywhere. The company was formerly known as Facebook, Inc. and changed its name to Meta Platforms, Inc. in October 2021. The company was incorporated in 2004 and is headquartered in Menlo Park, California', 'governance': 'Meta Platforms, Inc.’s ISS Governance QualityScore as of February 1, 2024 is 10. The pillar scores are Audit: 8; Board: 10; Shareholder Rights: 10; Compensation: 10.'}\n",
      "{'name': 'Netflix, Inc. (NFLX)', 'address': '121 Albright WayLos Gatos, CA 95032United States(408) 540-3700https://www.netflix.com', 'exec1': 'Mr. Wilmot Reed Hastings Jr.', 'exec2': 'Mr. Theodore A. Sarandos', 'exec3': 'Mr. Gregory K. Peters', 'exec4': 'Mr. Spencer Adam Neumann', 'exec5': 'Mr. David  Hyman', 'description': 'Netflix, Inc. provides entertainment services. It offers TV series, documentaries, feature films, and games across various genres and languages. The company also provides members the ability to receive streaming content through a host of internet-connected devices, including TVs, digital video players, TV set-top boxes, and mobile devices. It has operations in approximately 190 countries. The company was incorporated in 1997 and is headquartered in Los Gatos, California.', 'governance': 'Netflix, Inc.’s ISS Governance QualityScore as of February 1, 2024 is 10. The pillar scores are Audit: 10; Board: 10; Shareholder Rights: 6; Compensation: 10.'}\n"
     ]
    },
    {
     "name": "stdout",
     "output_type": "stream",
     "text": [
      "{'name': 'Alphabet Inc. (GOOG)', 'address': '1600 Amphitheatre ParkwayMountain View, CA 94043United States650 253 0000https://abc.xyz', 'exec1': 'Mr. Sundar  Pichai', 'exec2': 'Ms. Ruth M. Porat', 'exec3': 'Mr. Lawrence Edward Page', 'exec4': 'Mr. Sergey  Brin', 'exec5': 'Mr. J. Kent Walker', 'description': 'Alphabet Inc. offers various products and platforms in the United States, Europe, the Middle East, Africa, the Asia-Pacific, Canada, and Latin America. It operates through Google Services, Google Cloud, and Other Bets segments. The Google Services segment provides products and services, including ads, Android, Chrome, devices, Gmail, Google Drive, Google Maps, Google Photos, Google Play, Search, and YouTube. It is also involved in the sale of apps and in-app purchases and digital content in the Google Play and YouTube; and devices, as well as in the provision of YouTube consumer subscription services. The Google Cloud segment offers infrastructure, cybersecurity, databases, analytics, AI, and other services; Google Workspace that include cloud-based communication and collaboration tools for enterprises, such as Gmail, Docs, Drive, Calendar, and Meet; and other services for enterprise customers. The Other Bets segment sells healthcare-related and internet services. The company was incorporated in 1998 and is headquartered in Mountain View, California.', 'governance': 'Alphabet Inc.’s ISS Governance QualityScore as of February 1, 2024 is 10. The pillar scores are Audit: 10; Board: 7; Shareholder Rights: 10; Compensation: 10.'}\n",
      "Done!\n"
     ]
    }
   ],
   "source": [
    "import requests\n",
    "from bs4 import BeautifulSoup\n",
    "import json\n",
    "import csv\n",
    "from typing import Any, Dict\n",
    "import pandas as pd\n",
    "\n",
    "\n",
    "headers = {'User-Agent': 'Mozilla/5.0 (Macintosh; Intel Mac OS X 10_15_7) AppleWebKit/537.36 (KHTML, like Gecko) Chrome/120.0.0.0 Safari/537.36'}\n",
    "\n",
    "def get_profile(stock: Any) -> Dict[str, Any]:\n",
    "    \n",
    "    url = f'https://finance.yahoo.com/quote/{stock}/profile'\n",
    "    \n",
    "    r = requests.get(url, headers=headers)\n",
    "    \n",
    "    soup = BeautifulSoup(r.text, 'html')\n",
    "    \n",
    "    name = soup.find('h1', class_ = 'D(ib) Fz(18px)').text\n",
    "\n",
    "    address = soup.find('p', class_ = 'D(ib) W(47.727%) Pend(40px)').text\n",
    "\n",
    "    execs = soup.find_all('td', class_ = 'Ta(start)')\n",
    "\n",
    "    exec1 = execs[0].text\n",
    "    exec2 = execs[2].text\n",
    "    exec3 = execs[4].text\n",
    "    exec4 = execs[6].text\n",
    "    exec5 = execs[8].text\n",
    "\n",
    "    description = soup.find('p', class_ = 'Mt(15px) Lh(1.6)').text\n",
    "\n",
    "    governance = soup.find('p', class_ = 'Fz(s)').text\n",
    "    \n",
    "    stock = {'name': name, 'address': address, 'exec1': exec1, 'exec2': exec2, 'exec3': exec3, 'exec4': exec4,\n",
    "             'exec5': exec5, 'description': description, 'governance': governance}\n",
    "    \n",
    "    print(stock)\n",
    "    return stock\n",
    "    \n",
    "\n",
    "ticker_symbols = ['TSLA', 'AMZN', 'AAPL', 'META', 'NFLX', 'GOOG']\n",
    "\n",
    "stockdata = [get_profile(symbol) for symbol in ticker_symbols]\n",
    "\n",
    "with open('Rini_stock_profile_data.json', 'w', encoding='utf-8') as f: json.dump(stockdata, f)\n",
    "\n",
    "CSV_FILE_PATH = 'Rini_stock_profile_data.csv'\n",
    "with open(CSV_FILE_PATH, 'w', newline='', encoding='utf-8') as csvfile:\n",
    "    fieldnames = stockdata[0].keys()\n",
    "    writer = csv.DictWriter(csvfile, fieldnames=fieldnames, extrasaction='ignore') \n",
    "    writer.writeheader()\n",
    "    writer.writerows(stockdata)\n",
    "\n",
    "EXCEL_FILE_PATH = 'Rini_stock_profile_data.xlsx'\n",
    "df = pd.DataFrame(stockdata) \n",
    "df.to_excel(EXCEL_FILE_PATH, index=False)\n",
    "\n",
    "print('Done!')\n",
    "    "
   ]
  }
 ],
 "metadata": {
  "kernelspec": {
   "display_name": "Python 3 (ipykernel)",
   "language": "python",
   "name": "python3"
  },
  "language_info": {
   "codemirror_mode": {
    "name": "ipython",
    "version": 3
   },
   "file_extension": ".py",
   "mimetype": "text/x-python",
   "name": "python",
   "nbconvert_exporter": "python",
   "pygments_lexer": "ipython3",
   "version": "3.9.12"
  }
 },
 "nbformat": 4,
 "nbformat_minor": 5
}
