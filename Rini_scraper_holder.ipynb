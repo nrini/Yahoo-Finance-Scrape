{
 "cells": [
  {
   "cell_type": "code",
   "execution_count": 42,
   "id": "70b44d9c",
   "metadata": {},
   "outputs": [
    {
     "name": "stdout",
     "output_type": "stream",
     "text": [
      "{'ticker_name': 'TSLA', 'pct_shares_all_insider': '13.00%', 'pct_shares_institutions': '44.91%', 'pct_float_institutions': '51.62%', 'num_institutions_holding': '3,763', 'top_institute_holder1': 'Vanguard Group Inc', 'top_institute_holder2': 'Blackrock Inc.', 'top_institute_holder3': 'State Street Corporation', 'top_institute_holder4': 'Geode Capital Management, LLC', 'top_institute_holder5': 'Capital World Investors'}\n",
      "{'ticker_name': 'AMZN', 'pct_shares_all_insider': '9.67%', 'pct_shares_institutions': '61.60%', 'pct_float_institutions': '68.20%', 'num_institutions_holding': '5,793', 'top_institute_holder1': 'Vanguard Group Inc', 'top_institute_holder2': 'Blackrock Inc.', 'top_institute_holder3': 'State Street Corporation', 'top_institute_holder4': 'FMR, LLC', 'top_institute_holder5': 'Price (T.Rowe) Associates Inc'}\n",
      "{'ticker_name': 'AAPL', 'pct_shares_all_insider': '6.00%', 'pct_shares_institutions': '56.06%', 'pct_float_institutions': '59.64%', 'num_institutions_holding': '5,999', 'top_institute_holder1': 'Vanguard Group Inc', 'top_institute_holder2': 'Blackrock Inc.', 'top_institute_holder3': 'Berkshire Hathaway, Inc', 'top_institute_holder4': 'State Street Corporation', 'top_institute_holder5': 'FMR, LLC'}\n",
      "{'ticker_name': 'META', 'pct_shares_all_insider': '0.18%', 'pct_shares_institutions': '79.13%', 'pct_float_institutions': '79.28%', 'num_institutions_holding': '4,528', 'top_institute_holder1': 'Vanguard Group Inc', 'top_institute_holder2': 'Blackrock Inc.', 'top_institute_holder3': 'FMR, LLC', 'top_institute_holder4': 'State Street Corporation', 'top_institute_holder5': 'Price (T.Rowe) Associates Inc'}\n",
      "{'ticker_name': 'NFLX', 'pct_shares_all_insider': '1.38%', 'pct_shares_institutions': '84.65%', 'pct_float_institutions': '85.84%', 'num_institutions_holding': '2,868', 'top_institute_holder1': 'Vanguard Group Inc', 'top_institute_holder2': 'Blackrock Inc.', 'top_institute_holder3': 'FMR, LLC', 'top_institute_holder4': 'State Street Corporation', 'top_institute_holder5': 'Price (T.Rowe) Associates Inc'}\n",
      "{'ticker_name': 'GOOG', 'pct_shares_all_insider': '0.02%', 'pct_shares_institutions': '62.70%', 'pct_float_institutions': '62.71%', 'num_institutions_holding': '4,625', 'top_institute_holder1': 'Vanguard Group Inc', 'top_institute_holder2': 'Blackrock Inc.', 'top_institute_holder3': 'State Street Corporation', 'top_institute_holder4': 'FMR, LLC', 'top_institute_holder5': 'Price (T.Rowe) Associates Inc'}\n",
      "Done!\n"
     ]
    }
   ],
   "source": [
    "import requests\n",
    "from bs4 import BeautifulSoup\n",
    "import json\n",
    "import csv\n",
    "from typing import Any, Dict\n",
    "import pandas as pd\n",
    "\n",
    "\n",
    "headers = {'User-Agent': 'Mozilla/5.0 (Macintosh; Intel Mac OS X 10_15_7) AppleWebKit/537.36 (KHTML, like Gecko) Chrome/120.0.0.0 Safari/537.36'}\n",
    "\n",
    "def get_holders(stock: Any) -> Dict[str, Any]:\n",
    "    \n",
    "    url = f'https://finance.yahoo.com/quote/{stock}/holders'\n",
    "    \n",
    "    r = requests.get(url, headers=headers)\n",
    "    \n",
    "    soup = BeautifulSoup(r.text, 'html')\n",
    "    \n",
    "    holders = soup.find_all('td', class_ = 'Py(10px) Va(m) Fw(600) W(15%)')\n",
    "    \n",
    "    inst = soup.find_all('td', class_ = \"Ta(start) Pend(10px)\")\n",
    "    \n",
    "    stock = {'ticker_name': stock, 'pct_shares_all_insider': holders[0].text, 'pct_shares_institutions': holders[1].text,\n",
    "            'pct_float_institutions': holders[2].text, 'num_institutions_holding': holders[3].text,\n",
    "            'top_institute_holder1': inst[0].text, 'top_institute_holder2': inst[1].text,\n",
    "            'top_institute_holder3': inst[2].text, 'top_institute_holder4': inst[3].text,\n",
    "            'top_institute_holder5': inst[4].text}\n",
    "    \n",
    "    print(stock)\n",
    "    return stock\n",
    "    \n",
    "\n",
    "ticker_symbols = ['TSLA', 'AMZN', 'AAPL', 'META', 'NFLX', 'GOOG']\n",
    "\n",
    "stockdata = [get_holders(symbol) for symbol in ticker_symbols]\n",
    "\n",
    "with open('Rini_stock_holder_data.json', 'w', encoding='utf-8') as f: json.dump(stockdata, f)\n",
    "\n",
    "CSV_FILE_PATH = 'Rini_stock_holder_data.csv'\n",
    "with open(CSV_FILE_PATH, 'w', newline='', encoding='utf-8') as csvfile:\n",
    "    fieldnames = stockdata[0].keys()\n",
    "    writer = csv.DictWriter(csvfile, fieldnames=fieldnames, extrasaction='ignore') \n",
    "    writer.writeheader()\n",
    "    writer.writerows(stockdata)\n",
    "\n",
    "EXCEL_FILE_PATH = 'Rini_stock_holder_data.xlsx'\n",
    "df = pd.DataFrame(stockdata) \n",
    "df.to_excel(EXCEL_FILE_PATH, index=False)\n",
    "\n",
    "print('Done!')\n",
    "    \n",
    "    "
   ]
  }
 ],
 "metadata": {
  "kernelspec": {
   "display_name": "Python 3 (ipykernel)",
   "language": "python",
   "name": "python3"
  },
  "language_info": {
   "codemirror_mode": {
    "name": "ipython",
    "version": 3
   },
   "file_extension": ".py",
   "mimetype": "text/x-python",
   "name": "python",
   "nbconvert_exporter": "python",
   "pygments_lexer": "ipython3",
   "version": "3.9.12"
  }
 },
 "nbformat": 4,
 "nbformat_minor": 5
}
